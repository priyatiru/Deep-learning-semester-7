{
 "cells": [
  {
   "cell_type": "code",
   "execution_count": 1,
   "metadata": {},
   "outputs": [],
   "source": [
    "from keras.datasets import mnist\n",
    "from tensorflow.keras.datasets import mnist\n",
    "import numpy as np\n",
    "\n",
    "import matplotlib.pyplot as plt"
   ]
  },
  {
   "cell_type": "code",
   "execution_count": 2,
   "metadata": {},
   "outputs": [
    {
     "name": "stdout",
     "output_type": "stream",
     "text": [
      "(60000, 28, 28)\n",
      "(60000,)\n",
      "(10000, 28, 28)\n",
      "(10000,)\n"
     ]
    }
   ],
   "source": [
    "#1. LOADING DATASET\n",
    "(x_train, y_train), (x_test, y_test) = mnist.load_data()  \n",
    "\n",
    "\n",
    "#2. EXPLORING THE DATASET\n",
    "\n",
    "#printing the shape of input(x) and output(y) data\n",
    "print(x_train.shape)\n",
    "print(y_train.shape)\n",
    "print(x_test.shape)\n",
    "print(y_test.shape)"
   ]
  },
  {
   "cell_type": "code",
   "execution_count": 3,
   "metadata": {},
   "outputs": [
    {
     "name": "stdout",
     "output_type": "stream",
     "text": [
      "(60000, 784)\n",
      "(10000, 784)\n"
     ]
    }
   ],
   "source": [
    "#reshaping the dataset\n",
    "x_train = x_train.reshape((len(x_train), np.prod(x_train.shape[1:])))\n",
    "x_test = x_test.reshape((len(x_test), np.prod(x_test.shape[1:])))\n",
    "\n",
    "#printing flattened input data\n",
    "print(x_train.shape)\n",
    "\n",
    "print(x_test.shape)"
   ]
  },
  {
   "cell_type": "code",
   "execution_count": 4,
   "metadata": {},
   "outputs": [
    {
     "data": {
      "image/png": "[encoded data removed]",
      "text/plain": [
       "<Figure size 1008x720 with 20 Axes>"
      ]
     },
     "metadata": {},
     "output_type": "display_data"
    }
   ],
   "source": [
    "#VISUALIZATION OF DATA\n",
    "\n",
    "#displaying the dataset with labels on top of each number\n",
    "numbers=20\n",
    "plt.figure(figsize=(14, 10))\n",
    "for i in range(numbers):\n",
    "        \n",
    "    # display original\n",
    "    ax = plt.subplot(2, numbers, i + 1)\n",
    "    plt.imshow(x_train[i].reshape(28, 28))\n",
    "    plt.gray()\n",
    "    ax.get_xaxis().set_visible(False)\n",
    "    ax.get_yaxis().set_visible(False)\n",
    "    plt.xticks([]), plt.yticks([])\n",
    "    plt.title(y_train[i])\n",
    "    \n",
    "plt.show()"
   ]
  },
  {
   "cell_type": "code",
   "execution_count": 5,
   "metadata": {},
   "outputs": [
    {
     "data": {
      "text/plain": [
       "<matplotlib.image.AxesImage at 0x21db31d9df0>"
      ]
     },
     "execution_count": 5,
     "metadata": {},
     "output_type": "execute_result"
    },
    {
     "data": {
      "image/png": "[encoded data removed]",
      "text/plain": [
       "<Figure size 432x288 with 1 Axes>"
      ]
     },
     "metadata": {
      "needs_background": "light"
     },
     "output_type": "display_data"
    }
   ],
   "source": [
    "#3. PREPROCESSING THE DATA\n",
    "\n",
    "\n",
    "XX_train = x_train.astype('float32')/255.\n",
    "XX_test = x_test.astype('float32')/255.\n",
    "plt.imshow(XX_train[5].reshape(28,28))"
   ]
  },
  {
   "cell_type": "code",
   "execution_count": 6,
   "metadata": {},
   "outputs": [
    {
     "name": "stdout",
     "output_type": "stream",
     "text": [
      "(784, 60000)\n",
      "(10, 60000)\n",
      "(784, 10000)\n",
      "(10, 10000)\n"
     ]
    }
   ],
   "source": [
    "#One Hot Encoding to remove the bias\n",
    "def one_hot_encoding(y_train):  \n",
    "    y = np.empty([len(y_train),10],dtype = int)\n",
    "    for i in range(len(y_train)):\n",
    "        a = y_train[i]\n",
    "        b = np.zeros(10,dtype = int) \n",
    "        b[a] = 1\n",
    "        y[i] = b\n",
    "    return y.T\n",
    "\n",
    "YY_train = one_hot_encoding(y_train)\n",
    "YY_test = one_hot_encoding(y_test)\n",
    "\n",
    "XX_train = XX_train.T\n",
    "XX_test = XX_test.T\n",
    "\n",
    "print(XX_train.shape)\n",
    "print(YY_train.shape)\n",
    "print(XX_test.shape)\n",
    "print(YY_test.shape)\n",
    "\n"
   ]
  },
  {
   "cell_type": "code",
   "execution_count": 7,
   "metadata": {},
   "outputs": [],
   "source": [
    "#4. MODELLING\n",
    "\n",
    "#softmax function\n",
    "def softmax(Z):\n",
    "    expZ = np.exp(Z - np.max(Z))\n",
    "    return expZ / expZ.sum(axis=0, keepdims=True)\n"
   ]
  },
  {
   "cell_type": "code",
   "execution_count": 8,
   "metadata": {},
   "outputs": [],
   "source": [
    "\n",
    "#initializing parameters\n",
    "def initialize_param(d):\n",
    "    np.random.seed(1)\n",
    "    w = np.random.randn(d,10)/np.sqrt(d)\n",
    "    b = np.zeros((10,1))\n",
    "    params = {'w':w, 'b':b}\n",
    "    return params"
   ]
  },
  {
   "cell_type": "code",
   "execution_count": 9,
   "metadata": {},
   "outputs": [],
   "source": [
    "\n",
    "def forward(params, X, Y):\n",
    "    w = params['w']\n",
    "    b = params['b']\n",
    "    A = softmax(np.dot(w.T,X) + b)\n",
    "    m = X.shape[1]\n",
    "    cost = (-1/m)*np.sum(Y * np.log(A + 1e-8))\n",
    "    return A, cost"
   ]
  },
  {
   "cell_type": "code",
   "execution_count": 10,
   "metadata": {},
   "outputs": [],
   "source": [
    "\n",
    "def backprop(X, Y, A):\n",
    "    m = X.shape[1]\n",
    "    dw = (1/m)*np.dot(X,(A-Y).T)\n",
    "    db = (1/m)*np.sum(A-Y)\n",
    "    return dw, db"
   ]
  },
  {
   "cell_type": "code",
   "execution_count": 11,
   "metadata": {},
   "outputs": [],
   "source": [
    "def optimize(params, X, Y, num_iterations, l_rate):\n",
    "    w = params['w']\n",
    "    b = params['b']\n",
    "    costs = []\n",
    "    for i in range(num_iterations):\n",
    "        A, cost = forward(params, X, Y)\n",
    "        dw, db = backprop(X, Y, A)\n",
    "        params['w'] = params['w'] - l_rate*dw\n",
    "        params['b'] = params['b'] - l_rate*db\n",
    "        if i%100 == 0:\n",
    "            print('Cost on {0} interation: {1} {2} {3}'.format(i, cost, np.linalg.norm(dw), db))\n",
    "        costs.append(cost)\n",
    "    return params, costs\n",
    "\n",
    "\n",
    "\n"
   ]
  },
  {
   "cell_type": "code",
   "execution_count": 12,
   "metadata": {},
   "outputs": [],
   "source": [
    "def predict(params, X):\n",
    "    w = params['w']\n",
    "    print(w.shape, X.shape)\n",
    "    b = params['b']\n",
    "    m = X.shape[1]\n",
    "    A = softmax(np.dot(w.T,X)+b)\n",
    "    return A\n",
    "\n"
   ]
  },
  {
   "cell_type": "code",
   "execution_count": 18,
   "metadata": {},
   "outputs": [],
   "source": [
    "def model(ip_dimension, X_train, Y_train, num_interation, l_rate):\n",
    "    parameters = initialize_param(ip_dimension)\n",
    "    parameters, costs = optimize(parameters, X_train, Y_train, num_interation, l_rate)\n",
    "    return parameters, costs\n"
   ]
  },
  {
   "cell_type": "code",
   "execution_count": 19,
   "metadata": {},
   "outputs": [
    {
     "name": "stdout",
     "output_type": "stream",
     "text": [
      "Cost on 0 interation: 2.436488226563119 1.1366058666201924 -3.067176142697766e-17\n",
      "Cost on 100 interation: 0.6140793499129976 0.14731918378778486 1.0658141036401504e-18\n",
      "Cost on 200 interation: 0.49349119392433577 0.08265392383436176 2.220446049250313e-18\n",
      "Cost on 300 interation: 0.4445869523096169 0.05938195955176011 -5.033011044967377e-19\n",
      "Cost on 400 interation: 0.4166164790036122 0.047184301392954896 -5.921189464667502e-20\n",
      "Cost on 500 interation: 0.3979535328842856 0.03958973920139576 5.921189464667502e-20\n",
      "Cost on 600 interation: 0.38435610251548524 0.03436324055036924 1.1250259982868254e-18\n",
      "Cost on 700 interation: 0.3738704917424687 0.030522324764162823 -5.625129991434127e-19\n",
      "Cost on 800 interation: 0.36545786613044884 0.02756576511428196 3.434289889507151e-18\n",
      "Cost on 900 interation: 0.3585087183718252 0.025210288904839704 -8.289665250534502e-19\n"
     ]
    }
   ],
   "source": [
    "parameters, costs = model(XX_train.shape[0], XX_train, YY_train, 1000, 0.1)"
   ]
  },
  {
   "cell_type": "code",
   "execution_count": 21,
   "metadata": {},
   "outputs": [
    {
     "name": "stdout",
     "output_type": "stream",
     "text": [
      "(784, 10) (784, 60000)\n",
      "Training Accuracy: 96.20347450041757 %\n",
      "(784, 10) (784, 10000)\n",
      "Testing Accuracy: 96.35049632816649 %\n"
     ]
    }
   ],
   "source": [
    "print(\"Training Accuracy: {} %\".format(100 - np.mean(np.abs(predict(parameters,XX_train) - YY_train)) * 100))\n",
    "print(\"Testing Accuracy: {} %\".format(100 - np.mean(np.abs(predict(parameters,XX_test) - YY_test)) * 100))"
   ]
  },
  {
   "cell_type": "code",
   "execution_count": 22,
   "metadata": {},
   "outputs": [
    {
     "data": {
      "text/plain": [
       "[<matplotlib.lines.Line2D at 0x21db3132d30>]"
      ]
     },
     "execution_count": 22,
     "metadata": {},
     "output_type": "execute_result"
    },
    {
     "data": {
      "image/png": "[encoded data removed]",
      "text/plain": [
       "<Figure size 432x288 with 1 Axes>"
      ]
     },
     "metadata": {
      "needs_background": "light"
     },
     "output_type": "display_data"
    }
   ],
   "source": [
    "plt.plot(range(len(costs)),costs)"
   ]
  },
  {
   "cell_type": "code",
   "execution_count": null,
   "metadata": {},
   "outputs": [],
   "source": []
  }
 ],
 "metadata": {
  "kernelspec": {
   "display_name": "Python 3",
   "language": "python",
   "name": "python3"
  },
  "language_info": {
   "codemirror_mode": {
    "name": "ipython",
    "version": 3
   },
   "file_extension": ".py",
   "mimetype": "text/x-python",
   "name": "python",
   "nbconvert_exporter": "python",
   "pygments_lexer": "ipython3",
   "version": "3.8.4"
  }
 },
 "nbformat": 4,
 "nbformat_minor": 4
}
